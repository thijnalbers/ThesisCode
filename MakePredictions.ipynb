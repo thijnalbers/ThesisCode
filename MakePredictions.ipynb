{
 "cells": [
  {
   "cell_type": "code",
   "execution_count": 19,
   "metadata": {},
   "outputs": [],
   "source": [
    "import import_ipynb\n",
    "import pandas as pd\n",
    "import ModelCreation\n",
    "import numpy as np\n",
    "\n",
    "pipe = ModelCreation.rf\n",
    "rf = pipe[\"regressor\"]\n",
    "df = pd.read_excel(\"AUtoNL_20220907.xlsx\")\n",
    "\n",
    "# All nodes on the route\n",
    "locs = df[[\"locationType\", \"cityName\", \"countryName\"]].to_numpy().astype('str')\n",
    "nodes = np.unique(locs, axis=0)\n",
    "node_cols = [f'{node[0]}_{node[1]}_{node[2]}_visited' for node in nodes] + [f'{node[0]}_{node[1]}_{node[2]}_planned' for node in nodes]\n",
    "node_df = pd.DataFrame(np.zeros((df.shape[0], len(node_cols)), dtype=np.bool8), columns=node_cols)\n",
    "df.reset_index(inplace=True, drop=True)\n",
    "df = pd.concat([df, node_df], axis=1)\n",
    "df = df[df[\"ordSeaFreightMainTransportInvolvement\"] == \"J\"]\n",
    "df[\"ordJFHArrangeLoadingPickup\"].fillna(\"\", inplace=True)\n",
    "df[\"ordJFHArrangeDelivery\"].fillna(\"\", inplace=True)\n",
    "df[\"ordReqDeliveryDate\"].fillna(\"\", inplace=True)\n",
    "\n",
    "df = ModelCreation.preprocess_common(df)\n",
    "df_copy = df.copy()"
   ]
  },
  {
   "cell_type": "code",
   "execution_count": 20,
   "metadata": {},
   "outputs": [],
   "source": [
    "df = df_copy.copy()\n",
    "\n",
    "def is_visited(row):\n",
    "    return not (pd.isnull(row['actualArrDate']) and pd.isnull(row['actualDepDate']))\n",
    "\n",
    "def is_planned(row):\n",
    "    return not is_visited(row)\n",
    "\n",
    "df_finished = df[df['ATA'].notna()]\n",
    "df = df[df['ATA'].isna()]\n",
    "df.drop(columns=['ATA'], inplace=True)\n",
    "\n",
    "df[\"departureOrigin\"] = pd.to_datetime(df[\"departureOrigin\"])\n",
    "df[\"departureMonthOrigin\"] = df[\"departureOrigin\"].apply(lambda x : x.month)\n",
    "df[\"departureDayOrigin\"] = df[\"departureOrigin\"].apply(lambda x : x.isoweekday())\n",
    "\n",
    "# two new features to try out\n",
    "df[\"portOfLoadingDeparture\"] = pd.to_datetime(df[\"departureOrigin\"])\n",
    "df[\"polDepMonth\"] = df[\"portOfLoadingDeparture\"].apply(lambda x : x.month)\n",
    "df[\"polDepDay\"] = df[\"portOfLoadingDeparture\"].apply(lambda x : x.isoweekday())\n",
    "df[\"portOfDischargePlanned\"] = pd.to_datetime(df[\"departureOrigin\"])\n",
    "df[\"podPlannedMonth\"] = df[\"portOfDischargePlanned\"].apply(lambda x : x.month)\n",
    "df[\"podPlannedDay\"] = df[\"portOfDischargePlanned\"].apply(lambda x : x.isoweekday())\n",
    "\n",
    "# set visited path and future path\n",
    "ss = np.unique(df[\"shipmentID\"])\n",
    "paths = [df[df[\"shipmentID\"] == s][[\"locationType\", \"cityName\", \"countryName\"]].apply(lambda x : ModelCreation.node_name(x), axis=1) for s in ss]\n",
    "\n",
    "for path, shipment in zip(paths, ss):\n",
    "    path_visited = df[df[\"shipmentID\"] == shipment][[\"actualArrDate\", \"actualDepDate\"]].apply(lambda x : is_visited(x), axis=1)\n",
    "    path_planned = df[df[\"shipmentID\"] == shipment][[\"actualArrDate\", \"actualDepDate\"]].apply(lambda x : is_planned(x), axis=1)\n",
    "    # first node is always visited\n",
    "    df.loc[(df[\"shipmentID\"] == shipment) & (df[\"rowNo\"] == 1), [f\"{n}_visited\" for n in path[:1]]] = True\n",
    "    if len(path) > 1:\n",
    "        for i in range(1, len(path)):\n",
    "            if path_visited.iloc[i]:\n",
    "                df.loc[(df[\"shipmentID\"] == shipment) & (df[\"rowNo\"] == i+1), [f\"{n}_visited\" for n in path[:i]]] = True\n",
    "            if path_planned.iloc[i]:\n",
    "                df.loc[(df[\"shipmentID\"] == shipment) & (df[\"rowNo\"] == i+1), [f\"{n}_planned\" for n in path[i-1:]]] = True\n",
    "\n",
    "    # set ETA for all shipment records and convert to time delta\n",
    "    try:\n",
    "        # TODO: should this not be the orderReqDate? Now shipments that have no dep date do not have an ETA ever.\n",
    "        shipment_dep_row = df.loc[(df[\"shipmentID\"] == shipment) & (df[\"actualDepDate\"].notnull())].iloc[0]\n",
    "    except Exception as e:\n",
    "        df.loc[df[\"shipmentID\"] == shipment, [\"ETA\",]] = pd.Timedelta(0)\n",
    "        continue\n",
    "    shipment_est_arr = shipment_dep_row['ETA']\n",
    "    shipment_dep = shipment_dep_row['actualDepDate']\n",
    "    if not pd.isnull(shipment_est_arr):\n",
    "        df.loc[df[\"shipmentID\"] == shipment, [\"ETA\",]] = shipment_est_arr - shipment_dep\n",
    "    else:\n",
    "        df.loc[df[\"shipmentID\"] == shipment, [\"ETA\",]] = pd.Timedelta(0)\n",
    "        \n",
    "df[\"ETA\"] = (df[\"ETA\"] / pd.Timedelta(hours=1))\n",
    "\n",
    "for node in nodes:\n",
    "    df[f'{node[0]}_{node[1]}_{node[2]}_visited'] = df[f'{node[0]}_{node[1]}_{node[2]}_visited'].astype(int)\n",
    "    df[f'{node[0]}_{node[1]}_{node[2]}_planned'] = df[f'{node[0]}_{node[1]}_{node[2]}_planned'].astype(int)\n",
    "\n",
    "shipments = df[\"shipmentID\"]\n",
    "df_all_cols = df.copy()\n",
    "df = df.drop(columns=[\"portOfLoadingDeparture\", \"portOfDischargePlanned\", \"progress\", \"departureOrigin\", \"estimatedDepDate\", \"created\", \"readyDate\", \"estimatedArrDate\", \"actualDepDate\", \"prtReqPOL\", \"prtReqPOD\", \"ordReqShipDate\", \"ordaCreateDate\", \"ordReqDeliveryDate\", \"latitude\" , \"longitude\", \"actualArrDate\", \"ordExpectedNBOfContainers\", \"ordGrossWeightKGM\", \"rowNo\", \"shipmentID\", \"originDestination\", \"locationType\", \"cityName\", \"countryName\", \"ordtType\", \"ordJFHArrangeLoadingPickup\", \"ordSeaFreightMainTransportInvolvement\", \"ordJFHArrangeDelivery\"])\n"
   ]
  },
  {
   "cell_type": "code",
   "execution_count": 21,
   "metadata": {},
   "outputs": [],
   "source": [
    "df['P1_Le Havre_France_planned'] = 0 # not present in the ongoing shipments\n",
    "df = df[['A _Balhannah_Australia_visited', 'A _Relbia_Australia_visited',\n",
    "       'P2_Antwerpen_Belgium_visited', 'A _Tiel_Netherlands_planned',\n",
    "       'P2_Antwerpen_Belgium_planned', 'ETA', 'departureMonthOrigin',\n",
    "       'A _McLaren Vale_Australia_visited', 'P1_Le Havre_France_planned',\n",
    "       'pastTimeToOrigin', 'P1_Valencia_Spain_planned', 'totalWeight',\n",
    "       'A _Tilburg_Netherlands_planned', 'H1_Outer Harbor_Australia_visited',\n",
    "       'A _Melbourne_Australia_visited', 'origin', 'destination',\n",
    "       'consolidation', 'serviceType', 'portOfLoading', 'portOfDischarge',\n",
    "       'portOfLoadingLate']]\n",
    "predictions = pipe.predict(df)"
   ]
  },
  {
   "cell_type": "code",
   "execution_count": 22,
   "metadata": {},
   "outputs": [],
   "source": [
    "# the last prediction is what the prediction would be with all current information available\n",
    "results_dict = {shipment : [prediction for shipment_id, prediction in zip(shipments, predictions) if shipment_id == shipment] for shipment in shipments}\n",
    "with open('output/actual_predictions.csv', 'w+') as f:   \n",
    "    for shipment, predictions in results_dict.items():\n",
    "        f.write(f'{shipment},{predictions[-1]}\\n')"
   ]
  },
  {
   "cell_type": "code",
   "execution_count": 23,
   "metadata": {},
   "outputs": [],
   "source": [
    "# more verbose output file\n",
    "df_refs = pd.read_excel(\"AUtoNL_WithOrderReference.xlsx\")\n",
    "df_refs = df_refs[[\"shipmentID\", \"OrderReference\"]]\n",
    "\n",
    "with open('output/actual_predictions_verbose.csv', 'w+') as f:   \n",
    "    for shipment, predictions in results_dict.items():\n",
    "        prediction = predictions[-1]\n",
    "        order_refs = df_refs.loc[df_refs[\"shipmentID\"] == shipment][\"OrderReference\"]\n",
    "        order_ref = None\n",
    "        predicted_ata_absolute = None\n",
    "        if order_refs.size:\n",
    "            order_ref = order_refs.iloc[0]\n",
    "        shipment_dep_rows = df_all_cols.loc[(df_all_cols[\"shipmentID\"] == shipment) & (df_all_cols[\"actualDepDate\"].notnull())]\n",
    "        if shipment_dep_rows.size:\n",
    "            shipment_dep = shipment_dep_rows['actualDepDate'].iloc[0]\n",
    "            predicted_ata_absolute = (shipment_dep + pd.DateOffset(hours=prediction)).date()\n",
    "            f.write(f'{shipment},{prediction},{order_ref},{shipment_dep.date()},{predicted_ata_absolute}\\n')"
   ]
  },
  {
   "cell_type": "code",
   "execution_count": 24,
   "metadata": {},
   "outputs": [],
   "source": [
    "df[df_all_cols[\"shipmentID\"] == 4673847].to_csv('output/shipment_4673847_20220907.csv')"
   ]
  }
 ],
 "metadata": {
  "interpreter": {
   "hash": "9b8ec4c325ccd70ed1fd4d5536f24414b187362798a6c6d02761b1e632e78d57"
  },
  "kernelspec": {
   "display_name": "Python 3.9.13 ('env': venv)",
   "language": "python",
   "name": "python3"
  },
  "language_info": {
   "codemirror_mode": {
    "name": "ipython",
    "version": 3
   },
   "file_extension": ".py",
   "mimetype": "text/x-python",
   "name": "python",
   "nbconvert_exporter": "python",
   "pygments_lexer": "ipython3",
   "version": "3.9.13"
  },
  "orig_nbformat": 4
 },
 "nbformat": 4,
 "nbformat_minor": 2
}
