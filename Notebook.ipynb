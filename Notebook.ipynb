{
 "cells": [
  {
   "cell_type": "code",
   "execution_count": 173,
   "metadata": {},
   "outputs": [
    {
     "data": {
      "text/plain": [
       "array([1, 1])"
      ]
     },
     "execution_count": 173,
     "metadata": {},
     "output_type": "execute_result"
    }
   ],
   "source": [
    "# Feature Analysis flow\n",
    "from sklearn import svm\n",
    "from sklearn.feature_selection import RFE\n",
    "X = [[0, 0], [2, 2]]\n",
    "y = [0.5, 2.5]\n",
    "regr = svm.SVR()\n",
    "selector = RFE(regr, n_features_to_select=5, step=1)\n",
    "selector = selector.fit(X, y)\n",
    "selector.support_\n",
    "selector.ranking_"
   ]
  },
  {
   "cell_type": "code",
   "execution_count": 174,
   "metadata": {},
   "outputs": [],
   "source": [
    "# load data\n",
    "import numpy as np\n",
    "import pandas as pd\n",
    "# df = pd.read_excel('OuterHarbour-Tiel.xlsx')\n",
    "# df = pd.read_excel('OuterHarbour-Tiel2.xlsx')\n",
    "df = pd.read_excel('OuterHarbour-Tiel3.xlsx')"
   ]
  },
  {
   "cell_type": "code",
   "execution_count": 175,
   "metadata": {},
   "outputs": [],
   "source": [
    "# All nodes on the route\n",
    "locs = df[[\"locationType\", \"cityName\", \"countryName\"]].to_numpy().astype('str')\n",
    "nodes = np.unique(locs, axis=0)\n",
    "# create columns with default value for now\n",
    "for node in nodes:\n",
    "    df[f'{node[0]}_{node[1]}_{node[2]}_visited'] = False\n",
    "    df[f'{node[0]}_{node[1]}_{node[2]}_planned'] = False"
   ]
  },
  {
   "cell_type": "code",
   "execution_count": 176,
   "metadata": {},
   "outputs": [],
   "source": [
    "df = df[df[\"ordSeaFreightMainTransportInvolvement\"] == \"J\"]\n",
    "df[\"ordJFHArrangeLoadingPickup\"].fillna(\"\", inplace=True)\n",
    "df[\"ordJFHArrangeDelivery\"].fillna(\"\", inplace=True)\n",
    "df[\"ordReqDeliveryDate\"].fillna(\"\", inplace=True)"
   ]
  },
  {
   "cell_type": "code",
   "execution_count": 177,
   "metadata": {},
   "outputs": [],
   "source": [
    "from math import sqrt, pow\n",
    "\n",
    "def node_name(node):\n",
    "    # node = node.iloc[0]\n",
    "    return f'{node[\"locationType\"]}_{node[\"cityName\"]}_{node[\"countryName\"]}'\n",
    "\n",
    "def abs_distance(o, lat, long):\n",
    "    # o = origin_node.iloc[0]\n",
    "    diff_lat = abs(o[\"latitude\"] - lat) * 111.139\n",
    "    diff_long =  abs(o[\"longitude\"] - long) * 111.139\n",
    "    res = sqrt(pow(diff_lat, 2) + pow(diff_long, 2))\n",
    "    return res if res != 0 else 1\n",
    "\n",
    "def dep_late(port, node_created):\n",
    "    if node_created > port[\"actualDepDate\"]:\n",
    "        return \"yes\" if port[\"actualDepDate\"] > port[\"estimatedDepDate\"] else \"no\"\n",
    "    return \"unknown\"\n",
    "    \n",
    "\n",
    "def get_created_date(rowNo, destination, ordCreate, reqPortL, reqPortD, origDest, locType, readyDate, actArrDate):\n",
    "    if rowNo == 1:\n",
    "        return ordCreate\n",
    "    elif rowNo == destination[\"rowNo\"]:\n",
    "        return ordCreate\n",
    "    elif origDest == \"O\" and locType.strip() == \"P\":\n",
    "        return ordCreate if reqPortL else readyDate\n",
    "    elif origDest == \"D\" and locType.strip() == \"P\":\n",
    "        return ordCreate if reqPortD else readyDate\n",
    "    return actArrDate\n",
    "\n",
    "def get_port(port, node_created):\n",
    "    return node_name(port) if node_created >= port[\"created\"] else \"unknown\"\n",
    "\n",
    "df[\"origin\"] = [df.loc[(df[\"shipmentID\"] == shipmentID) & (df[\"rowNo\"] == 1)].iloc[0] for shipmentID in df[\"shipmentID\"]]\n",
    "df[\"originCountry\"] = [o[\"countryName\"] for o in df[\"origin\"]]\n",
    "df[\"destination\"] = [df.loc[(df[\"shipmentID\"] == shipmentID) & (df[\"rowNo\"] == df[df[\"shipmentID\"] == shipmentID][\"rowNo\"].max())].iloc[0] for shipmentID in df[\"shipmentID\"]]\n",
    "df[\"destinationCountry\"] = [d[\"countryName\"] for d in df[\"destination\"]]\n",
    "df[\"created\"] = [get_created_date(*values) for values in df[[\"rowNo\", \"destination\", \"ordaCreateDate\", \"prtReqPOL\", \"prtReqPOD\", \"originDestination\", \"locationType\", \"readyDate\", \"actualArrDate\"]].values]\n",
    "df[\"created\"] = df[\"created\"].astype(object)\n",
    "df[\"readyDate\"] = [o[\"readyDate\"] for o in df[\"origin\"]]\n",
    "df[\"consolidation\"] = (df[\"ordtType\"].str.strip() == \"LF\") | (df[\"ordtType\"].str.strip() == \"LFL\")\n",
    "df[\"deconsolidation\"] = df[\"ordtType\"].str.strip() == \"LFL\"\n",
    "df[\"serviceType\"] = [f\"{'door' if p == 'Y' else 'port'}-to-{'door' if d == 'Y' else 'port'}\" for p, d in df[[\"ordJFHArrangeLoadingPickup\", \"ordJFHArrangeDelivery\"]].values]\n",
    "df[\"pastTimeToOrigin\"] = [orig[\"actualDepDate\"] - arr_date for orig, arr_date in df[[\"origin\", \"actualArrDate\"]].values]\n",
    "df[\"pastTimeToOrigin\"] = df[\"pastTimeToOrigin\"] / pd.Timedelta(hours=1)\n",
    "df[\"pastAvgAbsSpeed\"] = [past_time / abs_distance(orig, lat, long) for (lat, long, orig, past_time) in df[[\"latitude\", \"longitude\", \"origin\", \"pastTimeToOrigin\"]].values]\n",
    "df[\"counterStops\"] = df[\"rowNo\"] - 1\n",
    "df[\"departureOrigin\"] = [o[\"actualDepDate\"] if (i > 1 and o[\"actualDepDate\"] > created) else None for (o, created, i) in df[[\"origin\", \"created\", \"rowNo\"]].values]\n",
    "df[\"numberOfTEU\"] = df[\"ordExpectedNBOfContainers\"]\n",
    "df[\"totalWeight\"] = df[\"ordGrossWeightKGM\"]\n",
    "df[\"ETA\"] = df[\"ordReqDeliveryDate\"]\n",
    "df[\"ATA\"] = [df.loc[(df[\"shipmentID\"] == shipmentID) & (df[\"rowNo\"] == df[df[\"shipmentID\"] == shipmentID][\"rowNo\"].max())].iloc[0][\"actualArrDate\"] for shipmentID in df[\"shipmentID\"]]\n",
    "df[\"currentMonth\"] = [c.month for c in df[\"created\"].values]\n",
    "df[\"portOfLoading\"] = [get_port(df.loc[(df[\"shipmentID\"] == shipmentID) & (df[\"locationType\"].str.strip() == \"P\") & (df[\"originDestination\"].str.strip() == \"O\")].iloc[0], created) for (shipmentID, created) in df[[\"shipmentID\", \"created\"]].values]\n",
    "df[\"portOfDischarge\"] = [get_port(df.loc[(df[\"shipmentID\"] == shipmentID) & (df[\"locationType\"].str.strip() == \"P\") & (df[\"originDestination\"].str.strip() == \"D\")].iloc[0], created) for (shipmentID, created) in df[[\"shipmentID\", \"created\"]].values]\n",
    "df[\"portDestCongestion\"] = 0 # external source needed\n",
    "df[\"portOfLoadingLate\"] = [dep_late(df.loc[(df[\"shipmentID\"] == shipmentID) & (df[\"locationType\"].str.strip() == \"P\") & (df[\"originDestination\"].str.strip() == \"O\")].iloc[0], created) for (shipmentID, created) in df[[\"shipmentID\", \"created\"]].values]\n",
    "df[\"origin\"] = [node_name(o) for o in df[\"origin\"]]\n",
    "df[\"destination\"] = [node_name(d) for d in df[\"destination\"]]\n",
    "# set visited path and future path\n",
    "ss = np.unique(df[\"shipmentID\"])\n",
    "paths = [df[df[\"shipmentID\"] == s][[\"locationType\", \"cityName\", \"countryName\"]].apply(lambda x : node_name(x), axis=1) for s in ss]\n",
    "for path, shipment in zip(paths, ss):\n",
    "    for i in range(1, len(path) + 1):\n",
    "        df.loc[(df[\"shipmentID\"] == shipment) & (df[\"rowNo\"] == i), [f\"{n}_visited\" for n in path[:i]]] = True\n",
    "        df.loc[(df[\"shipmentID\"] == shipment) & (df[\"rowNo\"] == i), [f\"{n}_planned\" for n in path[i-1:]]] = True\n",
    "# convert datetime to number of days \n",
    "df[\"departureOrigin\"] = pd.to_datetime(df[\"departureOrigin\"])\n",
    "df[\"ATA\"] = df[\"ATA\"] - df[\"departureOrigin\"]\n",
    "df[\"ETA\"] = df[\"ETA\"] - df[\"departureOrigin\"]\n",
    "df[\"departureMonthOrigin\"] = df[\"departureOrigin\"].apply(lambda x : x.month)\n",
    "df[\"departureDayOrigin\"] = df[\"departureOrigin\"].apply(lambda x : x.isoweekday())"
   ]
  },
  {
   "cell_type": "code",
   "execution_count": 178,
   "metadata": {},
   "outputs": [],
   "source": [
    "\n",
    "# df[\"portOfLoading\"] = [get_port(df.loc[(df[\"shipmentID\"] == shipmentID) & (df[\"locationType\"].str.strip() == \"P\") & (df[\"originDestination\"].str.strip() == \"O\")].iloc[0], created) for (shipmentID, created) in df[[\"shipmentID\", \"created\"]].values]\n",
    "# df[\"portOfLoadingLate\"] = [dep_late(df.loc[(df[\"shipmentID\"] == shipmentID) & (df[\"locationType\"].str.strip() == \"P\") & (df[\"originDestination\"].str.strip() == \"O\")].iloc[0], created) for (shipmentID, created) in df[[\"shipmentID\", \"created\"]].values]\n",
    "\n",
    "# np.unique(df[\"portOfLoadingLate\"])\n",
    "# df.head(25)\n",
    "# from copy import deepcopy\n"
   ]
  },
  {
   "cell_type": "code",
   "execution_count": 179,
   "metadata": {},
   "outputs": [],
   "source": [
    "\n",
    "df = df.drop(columns=[\"departureOrigin\", \"estimatedDepDate\", \"created\", \"readyDate\", \"estimatedArrDate\", \"actualDepDate\", \"prtReqPOL\", \"prtReqPOD\", \"ordReqShipDate\", \"ordaCreateDate\", \"ordReqDeliveryDate\", \"latitude\" , \"longitude\", \"actualArrDate\", \"ordExpectedNBOfContainers\", \"ordGrossWeightKGM\", \"rowNo\", \"shipmentID\", \"originDestination\", \"locationType\", \"cityName\", \"countryName\", \"ordtType\", \"ordJFHArrangeLoadingPickup\", \"ordSeaFreightMainTransportInvolvement\", \"ordJFHArrangeDelivery\"])"
   ]
  },
  {
   "cell_type": "code",
   "execution_count": 180,
   "metadata": {},
   "outputs": [],
   "source": [
    "df.replace([np.inf, -np.inf], 0, inplace=True)\n",
    "df[\"departureMonthOrigin\"].fillna(0, inplace=True)\n",
    "df[\"departureDayOrigin\"].fillna(0, inplace=True)\n",
    "\n",
    "df = df.astype({\n",
    "    \"origin\" : 'category',\n",
    "    \"originCountry\" : 'category',\n",
    "    \"destination\" : 'category',\n",
    "    \"destinationCountry\" : 'category',\n",
    "    \"serviceType\" : 'category',\n",
    "    \"portOfLoading\" : 'category',\n",
    "    \"portOfLoadingLate\" : 'category',\n",
    "    \"portOfDischarge\" : 'category',\n",
    "    \"departureMonthOrigin\" : 'int64',\n",
    "    \"departureDayOrigin\" : 'int64',\n",
    "    \"consolidation\" : \"int\",\n",
    "    \"deconsolidation\" : \"int\"\n",
    "})\n",
    "df[\"ATA\"] = df[\"ATA\"] / pd.Timedelta(hours=1)\n",
    "df[\"ETA\"] = df[\"ETA\"] / pd.Timedelta(hours=1)\n",
    "for node in nodes:\n",
    "    df[f'{node[0]}_{node[1]}_{node[2]}_visited'] = df[f'{node[0]}_{node[1]}_{node[2]}_visited'].astype(int)\n",
    "    df[f'{node[0]}_{node[1]}_{node[2]}_planned'] = df[f'{node[0]}_{node[1]}_{node[2]}_planned'].astype(int)\n",
    "df[\"origin\"] = df[\"origin\"].factorize()[0]\n",
    "df[\"originCountry\"] = df[\"originCountry\"].factorize()[0]\n",
    "df[\"destination\"] = df[\"destination\"].factorize()[0]\n",
    "df[\"destinationCountry\"] = df[\"destinationCountry\"].factorize()[0]\n",
    "df[\"portOfLoading\"] = df[\"portOfLoading\"].factorize()[0]\n",
    "df[\"portOfLoadingLate\"] = df[\"portOfLoadingLate\"].factorize()[0]\n",
    "df[\"portOfDischarge\"] = df[\"portOfDischarge\"].factorize()[0]\n",
    "df[\"serviceType\"] = df[\"serviceType\"].factorize()[0]"
   ]
  },
  {
   "cell_type": "code",
   "execution_count": 190,
   "metadata": {},
   "outputs": [],
   "source": [
    "from sklearn import svm\n",
    "from sklearn.feature_selection import RFE\n",
    "from sklearn.inspection import permutation_importance\n",
    "\n",
    "y = df[\"ATA\"]\n",
    "X = df.drop(columns=[\"ATA\"])\n",
    "\n",
    "X.dtypes\n",
    "\n",
    "X.fillna(0, inplace=True)\n",
    "y.fillna(0, inplace=True)\n",
    "\n",
    "regr = svm.SVR(kernel='linear')\n",
    "selector = RFE(regr, n_features_to_select=10, step=1)\n",
    "selector = selector.fit(X, y)\n",
    "selector.support_\n",
    "selector.ranking_"
   ]
  },
  {
   "cell_type": "code",
   "execution_count": null,
   "metadata": {},
   "outputs": [],
   "source": [
    "from sklearn import svm\n",
    "from sklearn.feature_selection import RFE\n",
    "from sklearn.inspection import permutation_importance\n",
    "import matplotlib.pyplot as plt\n",
    "\n",
    "regr = svm.SVR(kernel='rbf')\n",
    "perm_importance = permutation_importance(regr, X, y)\n",
    "\n",
    "feature_names = df.columns.names\n",
    "features = np.array(feature_names)\n",
    "\n",
    "sorted_idx = perm_importance.importances_mean.argsort()\n",
    "plt.barh(features[sorted_idx], perm_importance.importances_mean[sorted_idx])\n",
    "\n",
    "plt.xlabel(\"Permutation Importance\")"
   ]
  },
  {
   "cell_type": "code",
   "execution_count": 182,
   "metadata": {},
   "outputs": [],
   "source": [
    "df.to_excel(\"output.xlsx\")"
   ]
  },
  {
   "cell_type": "code",
   "execution_count": null,
   "metadata": {},
   "outputs": [],
   "source": [
    "import seaborn as sns\n",
    "import matplotlib.pyplot as plt\n",
    "\n",
    "plt.figure(figsize=(16, 6))\n",
    "mask = np.triu(np.ones_like(df.corr(), dtype=np.bool8))\n",
    "heatmap = sns.heatmap(df.corr(), vmin=-1, vmax=1, annot=True, cmap='vlag')\n",
    "heatmap.set_title('Triangle Correlation Heatmap', fontdict={'fontsize':18}, pad=16)"
   ]
  }
 ],
 "metadata": {
  "interpreter": {
   "hash": "9b8ec4c325ccd70ed1fd4d5536f24414b187362798a6c6d02761b1e632e78d57"
  },
  "kernelspec": {
   "display_name": "Python 3.9.13 ('env': venv)",
   "language": "python",
   "name": "python3"
  },
  "language_info": {
   "codemirror_mode": {
    "name": "ipython",
    "version": 3
   },
   "file_extension": ".py",
   "mimetype": "text/x-python",
   "name": "python",
   "nbconvert_exporter": "python",
   "pygments_lexer": "ipython3",
   "version": "3.9.13"
  },
  "orig_nbformat": 4
 },
 "nbformat": 4,
 "nbformat_minor": 2
}
