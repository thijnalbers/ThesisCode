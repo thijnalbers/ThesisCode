{
 "cells": [
  {
   "cell_type": "code",
   "execution_count": 76,
   "metadata": {},
   "outputs": [
    {
     "data": {
      "text/plain": [
       "array([1, 1])"
      ]
     },
     "execution_count": 76,
     "metadata": {},
     "output_type": "execute_result"
    }
   ],
   "source": [
    "# Feature Analysis flow\n",
    "from sklearn import svm\n",
    "from sklearn.feature_selection import RFE\n",
    "X = [[0, 0], [2, 2]]\n",
    "y = [0.5, 2.5]\n",
    "regr = svm.SVR()\n",
    "selector = RFE(regr, n_features_to_select=5, step=1)\n",
    "selector = selector.fit(X, y)\n",
    "selector.support_\n",
    "selector.ranking_"
   ]
  },
  {
   "cell_type": "code",
   "execution_count": 77,
   "metadata": {},
   "outputs": [],
   "source": [
    "# load data\n",
    "import numpy as np\n",
    "import pandas as pd\n",
    "df = pd.read_excel('OuterHarbour-Tiel2.xlsx')\n",
    "# df = pd.read_excel('OuterHarbour-Tiel2.xlsx')"
   ]
  },
  {
   "cell_type": "code",
   "execution_count": 78,
   "metadata": {},
   "outputs": [],
   "source": [
    "# All nodes on the route\n",
    "locs = df[[\"locationType\", \"cityName\", \"countryName\"]].to_numpy().astype('str')\n",
    "nodes = np.unique(locs, axis=0)\n",
    "# create columns with default value for now\n",
    "for node in nodes:\n",
    "    df[f'{node[0]}_{node[1]}_{node[2]}_visited'] = False\n",
    "    df[f'{node[0]}_{node[1]}_{node[2]}_planned'] = False"
   ]
  },
  {
   "cell_type": "code",
   "execution_count": 79,
   "metadata": {},
   "outputs": [],
   "source": [
    "df = df[df[\"ordSeaFreightMainTransportInvolvement\"] == \"J\"]\n",
    "df[\"ordJFHArrangeLoadingPickup\"] = df[\"ordJFHArrangeLoadingPickup\"].fillna(\"\")\n",
    "df[\"ordJFHArrangeDelivery\"] = df[\"ordJFHArrangeDelivery\"].fillna(\"\")\n",
    "df[\"ordReqDeliveryDate\"] = df[\"ordReqDeliveryDate\"].fillna(\"\")"
   ]
  },
  {
   "cell_type": "code",
   "execution_count": 80,
   "metadata": {},
   "outputs": [],
   "source": [
    "from math import sqrt, pow\n",
    "\n",
    "def node_name(node):\n",
    "    # node = node.iloc[0]\n",
    "    return f'{node[\"locationType\"]}_{node[\"cityName\"]}_{node[\"countryName\"]}'\n",
    "\n",
    "def abs_distance(o, lat, long):\n",
    "    # o = origin_node.iloc[0]\n",
    "    diff_lat = abs(o[\"latitude\"] - lat) * 111.139\n",
    "    diff_long =  abs(o[\"longitude\"] - long) * 111.139\n",
    "    return sqrt(pow(diff_lat, 2) + pow(diff_long, 2))\n",
    "\n",
    "def dep_late(port, node_created):\n",
    "    if node_created > port[\"actualDepDate\"]:\n",
    "        return \"yes\" if port[\"actualDepDate\"] > port[\"estimatedDepDate\"] else \"no\"\n",
    "    return \"unknown\"\n",
    "    \n",
    "\n",
    "def get_created_date(rowNo, destination, ordCreate, reqPortL, reqPortD, origDest, locType, readyDate, actArrDate):\n",
    "    if rowNo == 1:\n",
    "        return ordCreate\n",
    "    elif rowNo == destination[\"rowNo\"]:\n",
    "        return ordCreate\n",
    "    elif origDest == \"O\" and locType.strip() == \"P\":\n",
    "        return ordCreate if reqPortL else readyDate\n",
    "    elif origDest == \"D\" and locType.strip() == \"P\":\n",
    "        return ordCreate if reqPortD else readyDate\n",
    "    return actArrDate\n",
    "\n",
    "def get_port(port, node_created):\n",
    "    return node_name(port) if node_created > port[\"created\"] else \"unknown\"\n",
    "\n",
    "df[\"origin\"] = [df.loc[(df[\"shipmentID\"] == shipmentID) & (df[\"rowNo\"] == 1)].iloc[0] for shipmentID in df[\"shipmentID\"]]\n",
    "df[\"originCountry\"] = [o[\"countryName\"] for o in df[\"origin\"]]\n",
    "df[\"destination\"] = [df.loc[(df[\"shipmentID\"] == shipmentID) & (df[\"rowNo\"] == df[df[\"shipmentID\"] == shipmentID][\"rowNo\"].max())].iloc[0] for shipmentID in df[\"shipmentID\"]]\n",
    "df[\"destinationCountry\"] = [d[\"countryName\"] for d in df[\"destination\"]]\n",
    "df[\"created\"] = [get_created_date(*values) for values in df[[\"rowNo\", \"destination\", \"ordaCreateDate\", \"prtReqPOL\", \"prtReqPOD\", \"originDestination\", \"locationType\", \"readyDate\", \"actualArrDate\"]].values]\n",
    "df[\"created\"] = df[\"created\"].astype(object)\n",
    "df[\"readyDate\"] = [o[\"readyDate\"] for o in df[\"origin\"]]\n",
    "df[\"consolidation\"] = (df[\"ordtType\"].str.strip() == \"LF\") | (df[\"ordtType\"].str.strip() == \"LFL\")\n",
    "df[\"deconsolidation\"] = df[\"ordtType\"].str.strip() == \"LFL\"\n",
    "df[\"serviceType\"] = [f\"{'door' if p == 'Y' else 'port'}-to-{'door' if d == 'Y' else 'port'}\" for p, d in df[[\"ordJFHArrangeLoadingPickup\", \"ordJFHArrangeDelivery\"]].values]\n",
    "df[\"pastTimeToOrigin\"] = [orig[\"actualDepDate\"] - arr_date for orig, arr_date in df[[\"origin\", \"actualArrDate\"]].values]\n",
    "df[\"pastAvgAbsSpeed\"] = [past_time / abs_distance(orig, lat, long) for (lat, long, orig, past_time) in df[[\"latitude\", \"longitude\", \"origin\", \"pastTimeToOrigin\"]].values]\n",
    "df[\"counterStops\"] = df[\"rowNo\"] - 1\n",
    "df[\"departureMonthOrigin\"] = [o[\"actualDepDate\"].month if (i > 1 and o[\"actualDepDate\"] > created) else 0 for (o, created, i) in df[[\"origin\", \"created\", \"rowNo\"]].values]\n",
    "df[\"departureDayOrigin\"] = [o[\"actualDepDate\"].isoweekday() if (i > 1 and o[\"actualDepDate\"] > created) else 0 for (o, created, i) in df[[\"origin\", \"created\", \"rowNo\"]].values]\n",
    "df[\"numberOfTEU\"] = df[\"ordExpectedNBOfContainers\"]\n",
    "df[\"totalWeight\"] = df[\"ordGrossWeightKGM\"]\n",
    "df[\"ETA\"] = df[\"ordReqDeliveryDate\"]\n",
    "df[\"ATA\"] = [df.loc[(df[\"shipmentID\"] == shipmentID) & (df[\"rowNo\"] == df[df[\"shipmentID\"] == shipmentID][\"rowNo\"].max())].iloc[0][\"actualArrDate\"] for shipmentID in df[\"shipmentID\"]]\n",
    "df[\"currentMonth\"] = [c.month for c in df[\"created\"].values]\n",
    "df[\"portOfLoading\"] = [get_port(df.loc[(df[\"shipmentID\"] == shipmentID) & (df[\"locationType\"].str.strip() == \"P\") & (df[\"originDestination\"].str.strip() == \"O\")].iloc[0], created) for (shipmentID, created) in df[[\"shipmentID\", \"created\"]].values]\n",
    "df[\"portOfDischarge\"] = [get_port(df.loc[(df[\"shipmentID\"] == shipmentID) & (df[\"locationType\"].str.strip() == \"P\") & (df[\"originDestination\"].str.strip() == \"D\")].iloc[0], created) for (shipmentID, created) in df[[\"shipmentID\", \"created\"]].values]\n",
    "df[\"portDestCongestion\"] = 0 # external source needed\n",
    "df[\"portOfLoadingLate\"] = [dep_late(df.loc[(df[\"shipmentID\"] == shipmentID) & (df[\"locationType\"].str.strip() == \"P\") & (df[\"originDestination\"].str.strip() == \"O\")].iloc[0], created) for (shipmentID, created) in df[[\"shipmentID\", \"created\"]].values]\n",
    "df[\"origin\"] = [node_name(o) for o in df[\"origin\"]]\n",
    "df[\"destination\"] = [node_name(d) for d in df[\"destination\"]]\n",
    "# set visited path and future path\n",
    "# ss = np.unique(df[\"shipmentID\"])\n",
    "# paths = [df[df[\"shipmentID\"] == s][[\"locationType\", \"cityName\", \"countryName\"]].apply(lambda x : node_name(x), axis=1) for s in ss]\n",
    "# for path, shipment in zip(paths, ss):\n",
    "#     for i in range(1, len(path) + 1):\n",
    "#         df.loc[(df[\"shipmentID\"] == shipment) & (df[\"rowNo\"] == i), [f\"{n}_visited\" for n in path[:i]]] = True\n",
    "#         df.loc[(df[\"shipmentID\"] == shipment) & (df[\"rowNo\"] == i), [f\"{n}_planned\" for n in path[i-1:]]] = True"
   ]
  },
  {
   "cell_type": "code",
   "execution_count": 81,
   "metadata": {},
   "outputs": [],
   "source": [
    "\n",
    "# df[\"portOfLoading\"] = [get_port(df.loc[(df[\"shipmentID\"] == shipmentID) & (df[\"locationType\"].str.strip() == \"P\") & (df[\"originDestination\"].str.strip() == \"O\")].iloc[0], created) for (shipmentID, created) in df[[\"shipmentID\", \"created\"]].values]\n",
    "# df[\"portOfLoadingLate\"] = [dep_late(df.loc[(df[\"shipmentID\"] == shipmentID) & (df[\"locationType\"].str.strip() == \"P\") & (df[\"originDestination\"].str.strip() == \"O\")].iloc[0], created) for (shipmentID, created) in df[[\"shipmentID\", \"created\"]].values]\n",
    "\n",
    "# np.unique(df[\"portOfLoadingLate\"])"
   ]
  },
  {
   "cell_type": "code",
   "execution_count": 82,
   "metadata": {},
   "outputs": [
    {
     "ename": "KeyError",
     "evalue": "\"['ordExpectedNBOfC ontainers'] not found in axis\"",
     "output_type": "error",
     "traceback": [
      "\u001b[1;31m---------------------------------------------------------------------------\u001b[0m",
      "\u001b[1;31mKeyError\u001b[0m                                  Traceback (most recent call last)",
      "\u001b[1;32mc:\\Users\\thijn\\Documents\\Thesis Code\\Notebook.ipynb Cell 7'\u001b[0m in \u001b[0;36m<cell line: 1>\u001b[1;34m()\u001b[0m\n\u001b[1;32m----> <a href='vscode-notebook-cell:/c%3A/Users/thijn/Documents/Thesis%20Code/Notebook.ipynb#ch0000005?line=0'>1</a>\u001b[0m df \u001b[39m=\u001b[39m df\u001b[39m.\u001b[39;49mdrop(columns\u001b[39m=\u001b[39;49m[\u001b[39m\"\u001b[39;49m\u001b[39mprtReqPOL\u001b[39;49m\u001b[39m\"\u001b[39;49m, \u001b[39m\"\u001b[39;49m\u001b[39mprtReqPOD\u001b[39;49m\u001b[39m\"\u001b[39;49m, \u001b[39m\"\u001b[39;49m\u001b[39mordReqShipDate\u001b[39;49m\u001b[39m\"\u001b[39;49m, \u001b[39m\"\u001b[39;49m\u001b[39mordaCreateDate\u001b[39;49m\u001b[39m\"\u001b[39;49m, \u001b[39m\"\u001b[39;49m\u001b[39mordReqDeliveryDate\u001b[39;49m\u001b[39m\"\u001b[39;49m, \u001b[39m\"\u001b[39;49m\u001b[39mlatitude\u001b[39;49m\u001b[39m\"\u001b[39;49m , \u001b[39m\"\u001b[39;49m\u001b[39mlongitude\u001b[39;49m\u001b[39m\"\u001b[39;49m, \u001b[39m\"\u001b[39;49m\u001b[39mactualArrDate\u001b[39;49m\u001b[39m\"\u001b[39;49m, \u001b[39m\"\u001b[39;49m\u001b[39mordExpectedNBOfC ontainers\u001b[39;49m\u001b[39m\"\u001b[39;49m, \u001b[39m\"\u001b[39;49m\u001b[39mordGrossWeightKGM\u001b[39;49m\u001b[39m\"\u001b[39;49m, \u001b[39m\"\u001b[39;49m\u001b[39mrowNo\u001b[39;49m\u001b[39m\"\u001b[39;49m, \u001b[39m\"\u001b[39;49m\u001b[39mshipmentID\u001b[39;49m\u001b[39m\"\u001b[39;49m, \u001b[39m\"\u001b[39;49m\u001b[39moriginDestination\u001b[39;49m\u001b[39m\"\u001b[39;49m, \u001b[39m\"\u001b[39;49m\u001b[39mlocationType\u001b[39;49m\u001b[39m\"\u001b[39;49m, \u001b[39m\"\u001b[39;49m\u001b[39mcityName\u001b[39;49m\u001b[39m\"\u001b[39;49m, \u001b[39m\"\u001b[39;49m\u001b[39mcountryName\u001b[39;49m\u001b[39m\"\u001b[39;49m, \u001b[39m\"\u001b[39;49m\u001b[39mordtType\u001b[39;49m\u001b[39m\"\u001b[39;49m, \u001b[39m\"\u001b[39;49m\u001b[39mordJFHArrangeLoadingPickup\u001b[39;49m\u001b[39m\"\u001b[39;49m, \u001b[39m\"\u001b[39;49m\u001b[39mordSeaFreightMainTransportInvolvement\u001b[39;49m\u001b[39m\"\u001b[39;49m, \u001b[39m\"\u001b[39;49m\u001b[39mordJFHArrangeDelivery\u001b[39;49m\u001b[39m\"\u001b[39;49m])\n\u001b[0;32m      <a href='vscode-notebook-cell:/c%3A/Users/thijn/Documents/Thesis%20Code/Notebook.ipynb#ch0000005?line=1'>2</a>\u001b[0m df\u001b[39m.\u001b[39mto_excel(\u001b[39m\"\u001b[39m\u001b[39moutput.xlsx\u001b[39m\u001b[39m\"\u001b[39m)\n",
      "File \u001b[1;32mc:\\Users\\thijn\\Documents\\Thesis Code\\env\\lib\\site-packages\\pandas\\util\\_decorators.py:311\u001b[0m, in \u001b[0;36mdeprecate_nonkeyword_arguments.<locals>.decorate.<locals>.wrapper\u001b[1;34m(*args, **kwargs)\u001b[0m\n\u001b[0;32m    <a href='file:///c%3A/Users/thijn/Documents/Thesis%20Code/env/lib/site-packages/pandas/util/_decorators.py?line=304'>305</a>\u001b[0m \u001b[39mif\u001b[39;00m \u001b[39mlen\u001b[39m(args) \u001b[39m>\u001b[39m num_allow_args:\n\u001b[0;32m    <a href='file:///c%3A/Users/thijn/Documents/Thesis%20Code/env/lib/site-packages/pandas/util/_decorators.py?line=305'>306</a>\u001b[0m     warnings\u001b[39m.\u001b[39mwarn(\n\u001b[0;32m    <a href='file:///c%3A/Users/thijn/Documents/Thesis%20Code/env/lib/site-packages/pandas/util/_decorators.py?line=306'>307</a>\u001b[0m         msg\u001b[39m.\u001b[39mformat(arguments\u001b[39m=\u001b[39marguments),\n\u001b[0;32m    <a href='file:///c%3A/Users/thijn/Documents/Thesis%20Code/env/lib/site-packages/pandas/util/_decorators.py?line=307'>308</a>\u001b[0m         \u001b[39mFutureWarning\u001b[39;00m,\n\u001b[0;32m    <a href='file:///c%3A/Users/thijn/Documents/Thesis%20Code/env/lib/site-packages/pandas/util/_decorators.py?line=308'>309</a>\u001b[0m         stacklevel\u001b[39m=\u001b[39mstacklevel,\n\u001b[0;32m    <a href='file:///c%3A/Users/thijn/Documents/Thesis%20Code/env/lib/site-packages/pandas/util/_decorators.py?line=309'>310</a>\u001b[0m     )\n\u001b[1;32m--> <a href='file:///c%3A/Users/thijn/Documents/Thesis%20Code/env/lib/site-packages/pandas/util/_decorators.py?line=310'>311</a>\u001b[0m \u001b[39mreturn\u001b[39;00m func(\u001b[39m*\u001b[39margs, \u001b[39m*\u001b[39m\u001b[39m*\u001b[39mkwargs)\n",
      "File \u001b[1;32mc:\\Users\\thijn\\Documents\\Thesis Code\\env\\lib\\site-packages\\pandas\\core\\frame.py:4954\u001b[0m, in \u001b[0;36mDataFrame.drop\u001b[1;34m(self, labels, axis, index, columns, level, inplace, errors)\u001b[0m\n\u001b[0;32m   <a href='file:///c%3A/Users/thijn/Documents/Thesis%20Code/env/lib/site-packages/pandas/core/frame.py?line=4805'>4806</a>\u001b[0m \u001b[39m@deprecate_nonkeyword_arguments\u001b[39m(version\u001b[39m=\u001b[39m\u001b[39mNone\u001b[39;00m, allowed_args\u001b[39m=\u001b[39m[\u001b[39m\"\u001b[39m\u001b[39mself\u001b[39m\u001b[39m\"\u001b[39m, \u001b[39m\"\u001b[39m\u001b[39mlabels\u001b[39m\u001b[39m\"\u001b[39m])\n\u001b[0;32m   <a href='file:///c%3A/Users/thijn/Documents/Thesis%20Code/env/lib/site-packages/pandas/core/frame.py?line=4806'>4807</a>\u001b[0m \u001b[39mdef\u001b[39;00m \u001b[39mdrop\u001b[39m(\n\u001b[0;32m   <a href='file:///c%3A/Users/thijn/Documents/Thesis%20Code/env/lib/site-packages/pandas/core/frame.py?line=4807'>4808</a>\u001b[0m     \u001b[39mself\u001b[39m,\n\u001b[1;32m   (...)\u001b[0m\n\u001b[0;32m   <a href='file:///c%3A/Users/thijn/Documents/Thesis%20Code/env/lib/site-packages/pandas/core/frame.py?line=4814'>4815</a>\u001b[0m     errors: \u001b[39mstr\u001b[39m \u001b[39m=\u001b[39m \u001b[39m\"\u001b[39m\u001b[39mraise\u001b[39m\u001b[39m\"\u001b[39m,\n\u001b[0;32m   <a href='file:///c%3A/Users/thijn/Documents/Thesis%20Code/env/lib/site-packages/pandas/core/frame.py?line=4815'>4816</a>\u001b[0m ):\n\u001b[0;32m   <a href='file:///c%3A/Users/thijn/Documents/Thesis%20Code/env/lib/site-packages/pandas/core/frame.py?line=4816'>4817</a>\u001b[0m     \u001b[39m\"\"\"\u001b[39;00m\n\u001b[0;32m   <a href='file:///c%3A/Users/thijn/Documents/Thesis%20Code/env/lib/site-packages/pandas/core/frame.py?line=4817'>4818</a>\u001b[0m \u001b[39m    Drop specified labels from rows or columns.\u001b[39;00m\n\u001b[0;32m   <a href='file:///c%3A/Users/thijn/Documents/Thesis%20Code/env/lib/site-packages/pandas/core/frame.py?line=4818'>4819</a>\u001b[0m \n\u001b[1;32m   (...)\u001b[0m\n\u001b[0;32m   <a href='file:///c%3A/Users/thijn/Documents/Thesis%20Code/env/lib/site-packages/pandas/core/frame.py?line=4951'>4952</a>\u001b[0m \u001b[39m            weight  1.0     0.8\u001b[39;00m\n\u001b[0;32m   <a href='file:///c%3A/Users/thijn/Documents/Thesis%20Code/env/lib/site-packages/pandas/core/frame.py?line=4952'>4953</a>\u001b[0m \u001b[39m    \"\"\"\u001b[39;00m\n\u001b[1;32m-> <a href='file:///c%3A/Users/thijn/Documents/Thesis%20Code/env/lib/site-packages/pandas/core/frame.py?line=4953'>4954</a>\u001b[0m     \u001b[39mreturn\u001b[39;00m \u001b[39msuper\u001b[39;49m()\u001b[39m.\u001b[39;49mdrop(\n\u001b[0;32m   <a href='file:///c%3A/Users/thijn/Documents/Thesis%20Code/env/lib/site-packages/pandas/core/frame.py?line=4954'>4955</a>\u001b[0m         labels\u001b[39m=\u001b[39;49mlabels,\n\u001b[0;32m   <a href='file:///c%3A/Users/thijn/Documents/Thesis%20Code/env/lib/site-packages/pandas/core/frame.py?line=4955'>4956</a>\u001b[0m         axis\u001b[39m=\u001b[39;49maxis,\n\u001b[0;32m   <a href='file:///c%3A/Users/thijn/Documents/Thesis%20Code/env/lib/site-packages/pandas/core/frame.py?line=4956'>4957</a>\u001b[0m         index\u001b[39m=\u001b[39;49mindex,\n\u001b[0;32m   <a href='file:///c%3A/Users/thijn/Documents/Thesis%20Code/env/lib/site-packages/pandas/core/frame.py?line=4957'>4958</a>\u001b[0m         columns\u001b[39m=\u001b[39;49mcolumns,\n\u001b[0;32m   <a href='file:///c%3A/Users/thijn/Documents/Thesis%20Code/env/lib/site-packages/pandas/core/frame.py?line=4958'>4959</a>\u001b[0m         level\u001b[39m=\u001b[39;49mlevel,\n\u001b[0;32m   <a href='file:///c%3A/Users/thijn/Documents/Thesis%20Code/env/lib/site-packages/pandas/core/frame.py?line=4959'>4960</a>\u001b[0m         inplace\u001b[39m=\u001b[39;49minplace,\n\u001b[0;32m   <a href='file:///c%3A/Users/thijn/Documents/Thesis%20Code/env/lib/site-packages/pandas/core/frame.py?line=4960'>4961</a>\u001b[0m         errors\u001b[39m=\u001b[39;49merrors,\n\u001b[0;32m   <a href='file:///c%3A/Users/thijn/Documents/Thesis%20Code/env/lib/site-packages/pandas/core/frame.py?line=4961'>4962</a>\u001b[0m     )\n",
      "File \u001b[1;32mc:\\Users\\thijn\\Documents\\Thesis Code\\env\\lib\\site-packages\\pandas\\core\\generic.py:4267\u001b[0m, in \u001b[0;36mNDFrame.drop\u001b[1;34m(self, labels, axis, index, columns, level, inplace, errors)\u001b[0m\n\u001b[0;32m   <a href='file:///c%3A/Users/thijn/Documents/Thesis%20Code/env/lib/site-packages/pandas/core/generic.py?line=4264'>4265</a>\u001b[0m \u001b[39mfor\u001b[39;00m axis, labels \u001b[39min\u001b[39;00m axes\u001b[39m.\u001b[39mitems():\n\u001b[0;32m   <a href='file:///c%3A/Users/thijn/Documents/Thesis%20Code/env/lib/site-packages/pandas/core/generic.py?line=4265'>4266</a>\u001b[0m     \u001b[39mif\u001b[39;00m labels \u001b[39mis\u001b[39;00m \u001b[39mnot\u001b[39;00m \u001b[39mNone\u001b[39;00m:\n\u001b[1;32m-> <a href='file:///c%3A/Users/thijn/Documents/Thesis%20Code/env/lib/site-packages/pandas/core/generic.py?line=4266'>4267</a>\u001b[0m         obj \u001b[39m=\u001b[39m obj\u001b[39m.\u001b[39;49m_drop_axis(labels, axis, level\u001b[39m=\u001b[39;49mlevel, errors\u001b[39m=\u001b[39;49merrors)\n\u001b[0;32m   <a href='file:///c%3A/Users/thijn/Documents/Thesis%20Code/env/lib/site-packages/pandas/core/generic.py?line=4268'>4269</a>\u001b[0m \u001b[39mif\u001b[39;00m inplace:\n\u001b[0;32m   <a href='file:///c%3A/Users/thijn/Documents/Thesis%20Code/env/lib/site-packages/pandas/core/generic.py?line=4269'>4270</a>\u001b[0m     \u001b[39mself\u001b[39m\u001b[39m.\u001b[39m_update_inplace(obj)\n",
      "File \u001b[1;32mc:\\Users\\thijn\\Documents\\Thesis Code\\env\\lib\\site-packages\\pandas\\core\\generic.py:4311\u001b[0m, in \u001b[0;36mNDFrame._drop_axis\u001b[1;34m(self, labels, axis, level, errors, consolidate, only_slice)\u001b[0m\n\u001b[0;32m   <a href='file:///c%3A/Users/thijn/Documents/Thesis%20Code/env/lib/site-packages/pandas/core/generic.py?line=4308'>4309</a>\u001b[0m         new_axis \u001b[39m=\u001b[39m axis\u001b[39m.\u001b[39mdrop(labels, level\u001b[39m=\u001b[39mlevel, errors\u001b[39m=\u001b[39merrors)\n\u001b[0;32m   <a href='file:///c%3A/Users/thijn/Documents/Thesis%20Code/env/lib/site-packages/pandas/core/generic.py?line=4309'>4310</a>\u001b[0m     \u001b[39melse\u001b[39;00m:\n\u001b[1;32m-> <a href='file:///c%3A/Users/thijn/Documents/Thesis%20Code/env/lib/site-packages/pandas/core/generic.py?line=4310'>4311</a>\u001b[0m         new_axis \u001b[39m=\u001b[39m axis\u001b[39m.\u001b[39;49mdrop(labels, errors\u001b[39m=\u001b[39;49merrors)\n\u001b[0;32m   <a href='file:///c%3A/Users/thijn/Documents/Thesis%20Code/env/lib/site-packages/pandas/core/generic.py?line=4311'>4312</a>\u001b[0m     indexer \u001b[39m=\u001b[39m axis\u001b[39m.\u001b[39mget_indexer(new_axis)\n\u001b[0;32m   <a href='file:///c%3A/Users/thijn/Documents/Thesis%20Code/env/lib/site-packages/pandas/core/generic.py?line=4313'>4314</a>\u001b[0m \u001b[39m# Case for non-unique axis\u001b[39;00m\n\u001b[0;32m   <a href='file:///c%3A/Users/thijn/Documents/Thesis%20Code/env/lib/site-packages/pandas/core/generic.py?line=4314'>4315</a>\u001b[0m \u001b[39melse\u001b[39;00m:\n",
      "File \u001b[1;32mc:\\Users\\thijn\\Documents\\Thesis Code\\env\\lib\\site-packages\\pandas\\core\\indexes\\base.py:6644\u001b[0m, in \u001b[0;36mIndex.drop\u001b[1;34m(self, labels, errors)\u001b[0m\n\u001b[0;32m   <a href='file:///c%3A/Users/thijn/Documents/Thesis%20Code/env/lib/site-packages/pandas/core/indexes/base.py?line=6641'>6642</a>\u001b[0m \u001b[39mif\u001b[39;00m mask\u001b[39m.\u001b[39many():\n\u001b[0;32m   <a href='file:///c%3A/Users/thijn/Documents/Thesis%20Code/env/lib/site-packages/pandas/core/indexes/base.py?line=6642'>6643</a>\u001b[0m     \u001b[39mif\u001b[39;00m errors \u001b[39m!=\u001b[39m \u001b[39m\"\u001b[39m\u001b[39mignore\u001b[39m\u001b[39m\"\u001b[39m:\n\u001b[1;32m-> <a href='file:///c%3A/Users/thijn/Documents/Thesis%20Code/env/lib/site-packages/pandas/core/indexes/base.py?line=6643'>6644</a>\u001b[0m         \u001b[39mraise\u001b[39;00m \u001b[39mKeyError\u001b[39;00m(\u001b[39mf\u001b[39m\u001b[39m\"\u001b[39m\u001b[39m{\u001b[39;00m\u001b[39mlist\u001b[39m(labels[mask])\u001b[39m}\u001b[39;00m\u001b[39m not found in axis\u001b[39m\u001b[39m\"\u001b[39m)\n\u001b[0;32m   <a href='file:///c%3A/Users/thijn/Documents/Thesis%20Code/env/lib/site-packages/pandas/core/indexes/base.py?line=6644'>6645</a>\u001b[0m     indexer \u001b[39m=\u001b[39m indexer[\u001b[39m~\u001b[39mmask]\n\u001b[0;32m   <a href='file:///c%3A/Users/thijn/Documents/Thesis%20Code/env/lib/site-packages/pandas/core/indexes/base.py?line=6645'>6646</a>\u001b[0m \u001b[39mreturn\u001b[39;00m \u001b[39mself\u001b[39m\u001b[39m.\u001b[39mdelete(indexer)\n",
      "\u001b[1;31mKeyError\u001b[0m: \"['ordExpectedNBOfC ontainers'] not found in axis\""
     ]
    }
   ],
   "source": [
    "\n",
    "df = df.drop(columns=[\"prtReqPOL\", \"prtReqPOD\", \"ordReqShipDate\", \"ordaCreateDate\", \"ordReqDeliveryDate\", \"latitude\" , \"longitude\", \"actualArrDate\", \"ordExpectedNBOfC ontainers\", \"ordGrossWeightKGM\", \"rowNo\", \"shipmentID\", \"originDestination\", \"locationType\", \"cityName\", \"countryName\", \"ordtType\", \"ordJFHArrangeLoadingPickup\", \"ordSeaFreightMainTransportInvolvement\", \"ordJFHArrangeDelivery\"])\n",
    "df.to_excel(\"output.xlsx\")"
   ]
  },
  {
   "cell_type": "code",
   "execution_count": null,
   "metadata": {},
   "outputs": [],
   "source": []
  }
 ],
 "metadata": {
  "interpreter": {
   "hash": "9b8ec4c325ccd70ed1fd4d5536f24414b187362798a6c6d02761b1e632e78d57"
  },
  "kernelspec": {
   "display_name": "Python 3.9.13 ('env': venv)",
   "language": "python",
   "name": "python3"
  },
  "language_info": {
   "codemirror_mode": {
    "name": "ipython",
    "version": 3
   },
   "file_extension": ".py",
   "mimetype": "text/x-python",
   "name": "python",
   "nbconvert_exporter": "python",
   "pygments_lexer": "ipython3",
   "version": "3.9.13"
  },
  "orig_nbformat": 4
 },
 "nbformat": 4,
 "nbformat_minor": 2
}
